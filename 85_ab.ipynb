{
 "cells": [
  {
   "cell_type": "code",
   "execution_count": 1,
   "metadata": {},
   "outputs": [],
   "source": [
    "from requests import get"
   ]
  },
  {
   "cell_type": "code",
   "execution_count": 6,
   "metadata": {},
   "outputs": [],
   "source": [
    "data = get('https://jsonmock.hackerrank.com/api/food_outlets?city=Houston&page=1').json()"
   ]
  },
  {
   "cell_type": "code",
   "execution_count": 7,
   "metadata": {},
   "outputs": [],
   "source": [
    "city = 'Houston'\n",
    "cost = 1000\n",
    "\n",
    "total_pages = data['total_pages']\n",
    "per_page = data['per_page']\n",
    "total = data['total']"
   ]
  },
  {
   "cell_type": "code",
   "execution_count": 8,
   "metadata": {},
   "outputs": [],
   "source": [
    "List = []\n",
    "\n",
    "for i in range(1, total_pages + 1):\n",
    "    data = get('https://jsonmock.hackerrank.com/api/food_outlets?city='+ city +'&page=' + str(i)).json()\n",
    "    for j in range(per_page):\n",
    "        if data['data'][j]['estimated_cost'] < cost:\n",
    "            List.append(data['data'][j]['name'])"
   ]
  },
  {
   "cell_type": "code",
   "execution_count": 10,
   "metadata": {},
   "outputs": [],
   "source": [
    "# List"
   ]
  },
  {
   "cell_type": "code",
   "execution_count": 1,
   "metadata": {},
   "outputs": [],
   "source": [
    "from requests import get\n",
    "\n",
    "\n",
    "def getReleventFoodOutlets(city, maxCost):\n",
    "    # Write your code here\n",
    "    List = []\n",
    "    data = get('https://jsonmock.hackerrank.com/api/food_outlets?city='+ city +'&page=1').json()\n",
    "    if not data:\n",
    "        return []\n",
    "\n",
    "    total_pages = data['total_pages']\n",
    "    per_page = data['per_page']\n",
    "    total = data['total']\n",
    "    for i in range(1, total_pages + 1):\n",
    "        data = get('https://jsonmock.hackerrank.com/api/food_outlets?city='+ city +'&page=' + str(i)).json()\n",
    "        for j in range(per_page):\n",
    "            if data['data'][j]['estimated_cost'] < maxCost:\n",
    "                List.append(data['data'][j]['name'])    \n",
    "    return List"
   ]
  },
  {
   "cell_type": "code",
   "execution_count": 2,
   "metadata": {},
   "outputs": [
    {
     "data": {
      "text/plain": [
       "['Double Roti',\n",
       " 'Kashi Art Cafe',\n",
       " 'Cafe 17',\n",
       " 'The Grill Lab',\n",
       " 'Mocha Art Cafe',\n",
       " 'Nasi And Mee',\n",
       " 'Dhe Puttu',\n",
       " 'Mi Casa',\n",
       " 'Al Reem Kuzhimandi',\n",
       " 'Paragon',\n",
       " 'Tonico Cafe',\n",
       " 'Zaatar Arabic Restaurant',\n",
       " 'Seagull Restaurant',\n",
       " 'The Voyager',\n",
       " \"Cafe d' arabia\",\n",
       " 'Sethi Da Dhaba',\n",
       " 'French Toast',\n",
       " 'Zaatar Arabic Restaurant',\n",
       " 'Milano Ice Cream',\n",
       " 'Sheba Kuzhimandhi',\n",
       " 'KFC',\n",
       " 'Thaal Kitchen',\n",
       " 'Thakkaaram',\n",
       " 'Alakapuri',\n",
       " 'Nawras Seafood Restaurant',\n",
       " 'Brindhavan Vegetarian Restaurant',\n",
       " 'Mustake Multicuisine Restaurant',\n",
       " 'Cocoa Tree',\n",
       " \"Ikka's Restaurant\"]"
      ]
     },
     "execution_count": 2,
     "metadata": {},
     "output_type": "execute_result"
    }
   ],
   "source": [
    "val1 = getReleventFoodOutlets('Houston', 100)\n",
    "val1"
   ]
  }
 ],
 "metadata": {
  "kernelspec": {
   "display_name": "Python 3.8.8 ('base')",
   "language": "python",
   "name": "python3"
  },
  "language_info": {
   "codemirror_mode": {
    "name": "ipython",
    "version": 3
   },
   "file_extension": ".py",
   "mimetype": "text/x-python",
   "name": "python",
   "nbconvert_exporter": "python",
   "pygments_lexer": "ipython3",
   "version": "3.8.8"
  },
  "orig_nbformat": 4,
  "vscode": {
   "interpreter": {
    "hash": "d4f6b91810092979c1f6b2ea3128881cfd78fc7377efe04d83a63962683492dc"
   }
  }
 },
 "nbformat": 4,
 "nbformat_minor": 2
}
